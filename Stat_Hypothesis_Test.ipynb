{
 "cells": [
  {
   "cell_type": "code",
   "execution_count": 1,
   "id": "a69cf8ae",
   "metadata": {},
   "outputs": [],
   "source": [
    "import pandas as pd\n",
    "import matplotlib.pyplot as plt\n",
    "import seaborn as sn\n",
    "import numpy as np\n",
    "import random"
   ]
  },
  {
   "cell_type": "markdown",
   "id": "96a82c67",
   "metadata": {},
   "source": [
    "# P Value Test"
   ]
  },
  {
   "cell_type": "code",
   "execution_count": 2,
   "id": "c0a9a297",
   "metadata": {},
   "outputs": [],
   "source": [
    "avocado = pd.read_csv('avocado.csv')"
   ]
  },
  {
   "cell_type": "code",
   "execution_count": 3,
   "id": "a6a43bd8",
   "metadata": {
    "scrolled": false
   },
   "outputs": [
    {
     "data": {
      "text/plain": [
       "['Unnamed: 0',\n",
       " 'Date',\n",
       " 'AveragePrice',\n",
       " 'Total Volume',\n",
       " '4046',\n",
       " '4225',\n",
       " '4770',\n",
       " 'Total Bags',\n",
       " 'Small Bags',\n",
       " 'Large Bags',\n",
       " 'XLarge Bags',\n",
       " 'type',\n",
       " 'year',\n",
       " 'region']"
      ]
     },
     "execution_count": 3,
     "metadata": {},
     "output_type": "execute_result"
    }
   ],
   "source": [
    "list(avocado.columns.values)"
   ]
  },
  {
   "cell_type": "code",
   "execution_count": 4,
   "id": "4b64a0dc",
   "metadata": {
    "scrolled": true
   },
   "outputs": [],
   "source": [
    "organic = avocado.loc[avocado['type']=='organic']\n",
    "not_organic = avocado.loc[avocado['type']=='conventional']"
   ]
  },
  {
   "cell_type": "code",
   "execution_count": 5,
   "id": "67b7b298",
   "metadata": {
    "scrolled": true
   },
   "outputs": [
    {
     "name": "stderr",
     "output_type": "stream",
     "text": [
      "C:\\ProgramData\\Anaconda3\\lib\\site-packages\\seaborn\\distributions.py:2619: FutureWarning: `distplot` is a deprecated function and will be removed in a future version. Please adapt your code to use either `displot` (a figure-level function with similar flexibility) or `histplot` (an axes-level function for histograms).\n",
      "  warnings.warn(msg, FutureWarning)\n"
     ]
    },
    {
     "data": {
      "image/png": "[encoded data removed]",
      "text/plain": [
       "<Figure size 432x288 with 1 Axes>"
      ]
     },
     "metadata": {
      "needs_background": "light"
     },
     "output_type": "display_data"
    }
   ],
   "source": [
    "sn.distplot(organic['AveragePrice'], kde=False, label = 'organic')\n",
    "sn.distplot(not_organic['AveragePrice'], kde=False, label = 'not_organic')\n",
    "plt.legend()\n",
    "plt.show()"
   ]
  },
  {
   "cell_type": "code",
   "execution_count": 6,
   "id": "0402160c",
   "metadata": {},
   "outputs": [],
   "source": [
    "observed_test_stats = np.mean(organic['AveragePrice']-np.mean(not_organic['AveragePrice']))"
   ]
  },
  {
   "cell_type": "code",
   "execution_count": 7,
   "id": "4b1e9a9a",
   "metadata": {},
   "outputs": [
    {
     "data": {
      "text/plain": [
       "0.4959590177573935"
      ]
     },
     "execution_count": 7,
     "metadata": {},
     "output_type": "execute_result"
    }
   ],
   "source": [
    "observed_test_stats"
   ]
  },
  {
   "cell_type": "code",
   "execution_count": 8,
   "id": "57078d33",
   "metadata": {},
   "outputs": [
    {
     "data": {
      "text/plain": [
       "0        1.59\n",
       "1        1.09\n",
       "2        0.82\n",
       "3        1.43\n",
       "4        1.65\n",
       "         ... \n",
       "18244    1.23\n",
       "18245    1.44\n",
       "18246    1.79\n",
       "18247    0.99\n",
       "18248    1.92\n",
       "Name: AveragePrice, Length: 18249, dtype: float64"
      ]
     },
     "execution_count": 8,
     "metadata": {},
     "output_type": "execute_result"
    }
   ],
   "source": [
    "avocado['AveragePrice'].sample(frac=1).reset_index(drop = 'conventional')"
   ]
  },
  {
   "cell_type": "code",
   "execution_count": 9,
   "id": "199d3839",
   "metadata": {},
   "outputs": [],
   "source": [
    "def perm (data):\n",
    "    return data.sample(frac=1).reset_index(drop = 'conventional')"
   ]
  },
  {
   "cell_type": "code",
   "execution_count": 68,
   "id": "dfdf75a2",
   "metadata": {
    "scrolled": true
   },
   "outputs": [],
   "source": [
    "sim_test_stat = np.array([])\n",
    "\n",
    "reps=19000\n"
   ]
  },
  {
   "cell_type": "code",
   "execution_count": 69,
   "id": "5effb962",
   "metadata": {
    "scrolled": true
   },
   "outputs": [],
   "source": [
    "for i in range(reps):\n",
    "    perm_info = perm(avocado['AveragePrice'])\n",
    "    \n",
    "    df = pd.DataFrame({'Permuted Price':perm_info, 'type':avocado['type']})\n",
    "    \n",
    "    organic = df.loc[df['type']=='organic', 'Permuted Price']\n",
    "    not_organic = df.loc[df['type']=='conventional', 'Permuted Price']\n",
    "    \n",
    "    stat = np.mean(organic)-np.mean(not_organic)\n",
    "    \n",
    "    sim_test_stat = np.append(sim_test_stat, stat)"
   ]
  },
  {
   "cell_type": "code",
   "execution_count": 70,
   "id": "8d8c58fd",
   "metadata": {},
   "outputs": [
    {
     "data": {
      "text/plain": [
       "array([-0.00982871, -0.0015499 ,  0.00813611, ...,  0.00626203,\n",
       "        0.00017951, -0.00144688])"
      ]
     },
     "execution_count": 70,
     "metadata": {},
     "output_type": "execute_result"
    }
   ],
   "source": [
    "sim_test_stat"
   ]
  },
  {
   "cell_type": "code",
   "execution_count": 71,
   "id": "f382d1d0",
   "metadata": {},
   "outputs": [],
   "source": [
    "p_value = np.count_nonzero(sim_test_stat <= observed_test_stats) /reps"
   ]
  },
  {
   "cell_type": "code",
   "execution_count": 72,
   "id": "e61677ca",
   "metadata": {},
   "outputs": [
    {
     "data": {
      "text/plain": [
       "1.0"
      ]
     },
     "execution_count": 72,
     "metadata": {},
     "output_type": "execute_result"
    }
   ],
   "source": [
    "p_value"
   ]
  },
  {
   "cell_type": "code",
   "execution_count": 73,
   "id": "07b8eef3",
   "metadata": {},
   "outputs": [],
   "source": [
    "#0.05<p_value - fail to reject the null hypothesis\n",
    "#Fail to reject the null hypothesis (H0). In conclusion there is NOT enough evidence to support the alternative claim (H1).\n",
    "\n",
    "#0.05>p_value - reject the null hypothesis\n",
    "#Reject the null hypothesis (H0). In conclusion there is enough significant statistical evidence to support the alternative claim (H1).\n"
   ]
  },
  {
   "cell_type": "markdown",
   "id": "e8412ee7",
   "metadata": {},
   "source": [
    "# Bootstrap Confidence Interval"
   ]
  },
  {
   "cell_type": "code",
   "execution_count": 26,
   "id": "d2732bdb",
   "metadata": {
    "scrolled": true
   },
   "outputs": [
    {
     "data": {
      "text/plain": [
       "array([1.21, 1.24, 1.55, ..., 0.83, 1.91, 1.68])"
      ]
     },
     "execution_count": 26,
     "metadata": {},
     "output_type": "execute_result"
    }
   ],
   "source": [
    "np.random.choice(organic, size = len(organic))"
   ]
  },
  {
   "cell_type": "code",
   "execution_count": 27,
   "id": "a497ddbf",
   "metadata": {},
   "outputs": [
    {
     "data": {
      "text/plain": [
       "array([1.13, 0.76, 1.61, ..., 0.98, 1.84, 1.17])"
      ]
     },
     "execution_count": 27,
     "metadata": {},
     "output_type": "execute_result"
    }
   ],
   "source": [
    "np.random.choice(not_organic, size = len(not_organic))"
   ]
  },
  {
   "cell_type": "code",
   "execution_count": 28,
   "id": "ed621952",
   "metadata": {},
   "outputs": [],
   "source": [
    "def resample(orig_sample, reps):\n",
    "    return np.random.choice(orig_sample, size = len(orig_sample))"
   ]
  },
  {
   "cell_type": "code",
   "execution_count": 29,
   "id": "5926ed52",
   "metadata": {},
   "outputs": [],
   "source": [
    "def bootstrap(orig_sample, reps):\n",
    "    means = np.array([])\n",
    "    \n",
    "    for i in range(reps):\n",
    "        new_sample = resample(orig_sample, int)\n",
    "        new_mean = np.mean(new_sample)\n",
    "        means = np.append(means, new_mean)\n",
    "    return means"
   ]
  },
  {
   "cell_type": "code",
   "execution_count": 32,
   "id": "2165277a",
   "metadata": {},
   "outputs": [],
   "source": [
    "organic_means = bootstrap(organic, 19000)\n",
    "not_organic_means = bootstrap(not_organic, 19000)\n",
    "estimates = organic_means - not_organic_means"
   ]
  },
  {
   "cell_type": "code",
   "execution_count": 33,
   "id": "04853fbb",
   "metadata": {},
   "outputs": [
    {
     "data": {
      "text/plain": [
       "array([0.00039831, 0.00939939, 0.00377391, ..., 0.00952547, 0.01497561,\n",
       "       0.00695919])"
      ]
     },
     "execution_count": 33,
     "metadata": {},
     "output_type": "execute_result"
    }
   ],
   "source": [
    "estimates"
   ]
  },
  {
   "cell_type": "code",
   "execution_count": 34,
   "id": "f179eee2",
   "metadata": {},
   "outputs": [
    {
     "data": {
      "image/png": "[encoded data removed]",
      "text/plain": [
       "<Figure size 432x288 with 1 Axes>"
      ]
     },
     "metadata": {
      "needs_background": "light"
     },
     "output_type": "display_data"
    }
   ],
   "source": [
    "sn.distplot(estimates, kde=False)\n",
    "plt.show()"
   ]
  },
  {
   "cell_type": "code",
   "execution_count": 35,
   "id": "2f6070e7",
   "metadata": {},
   "outputs": [
    {
     "data": {
      "text/plain": [
       "(-0.0061292004018712876, 0.017447056690998435)"
      ]
     },
     "execution_count": 35,
     "metadata": {},
     "output_type": "execute_result"
    }
   ],
   "source": [
    "(np.percentile(estimates, 2.5), np.percentile(estimates, 97.5))"
   ]
  },
  {
   "cell_type": "code",
   "execution_count": 36,
   "id": "0c32c39c",
   "metadata": {},
   "outputs": [],
   "source": [
    "# with 95% confidence, the population's mean difference in Average Price between organic avocados and conventional avocado, is between about ___, and ___."
   ]
  },
  {
   "cell_type": "code",
   "execution_count": null,
   "id": "d065cd37",
   "metadata": {},
   "outputs": [],
   "source": []
  }
 ],
 "metadata": {
  "kernelspec": {
   "display_name": "Python 3 (ipykernel)",
   "language": "python",
   "name": "python3"
  },
  "language_info": {
   "codemirror_mode": {
    "name": "ipython",
    "version": 3
   },
   "file_extension": ".py",
   "mimetype": "text/x-python",
   "name": "python",
   "nbconvert_exporter": "python",
   "pygments_lexer": "ipython3",
   "version": "3.9.7"
  }
 },
 "nbformat": 4,
 "nbformat_minor": 5
}
